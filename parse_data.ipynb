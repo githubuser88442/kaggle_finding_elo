{
 "cells": [
  {
   "cell_type": "markdown",
   "metadata": {},
   "source": [
    "### Very quick and notebook for parsing the data"
   ]
  },
  {
   "cell_type": "code",
   "execution_count": 148,
   "metadata": {},
   "outputs": [],
   "source": [
    "import pandas as pd\n",
    "from pathlib import Path\n",
    "import csv"
   ]
  },
  {
   "cell_type": "code",
   "execution_count": 149,
   "metadata": {},
   "outputs": [],
   "source": [
    "ddir = Path(\"DATA/\")\n",
    "raw_d= Path(\"DATA/RAW\")\n",
    "train_d= Path(\"DATA/TRAIN\")\n",
    "proc_d= Path(\"DATA/PROC\")"
   ]
  },
  {
   "cell_type": "code",
   "execution_count": 217,
   "metadata": {},
   "outputs": [
    {
     "name": "stdout",
     "output_type": "stream",
     "text": [
      "25001\n",
      "24999\n"
     ]
    }
   ],
   "source": [
    "with open(raw_d/\"data.pgn\", \"r\") as f:\n",
    "    raw_data = []\n",
    "    raw_data_unlabeled = []\n",
    "    lines = f.readlines()\n",
    "    neg_words = [\"Site\", \"Date\", \"Round\", \"White\", \"Black\"]\n",
    "    pos_words = [\"Elo\", \"Result\"]\n",
    "\n",
    "    count = 0\n",
    "    tmp_data = [0]\n",
    "    for l in lines:\n",
    "        if \"Event\" in l:\n",
    "            eid = int(l.split('\"')[1])\n",
    "            if eid <= 25001:\n",
    "                raw_data.append(tmp_data)\n",
    "            else:\n",
    "                raw_data_unlabeled.append(tmp_data)\n",
    "            tmp_data = [eid]\n",
    "        elif (any(wrd in l for wrd in pos_words)):\n",
    "            tmp_data.append(l.strip().split('\"')[1])\n",
    "        elif not (any(wrd in l for wrd in neg_words) or l.strip() == \"\"):\n",
    "            tmp_data.append(l.strip())\n",
    "\n",
    "print(len(raw_data))\n",
    "print(len(raw_data_unlabeled))"
   ]
  },
  {
   "cell_type": "code",
   "execution_count": 218,
   "metadata": {},
   "outputs": [
    {
     "data": {
      "text/plain": [
       "[25001,\n",
       " '1/2-1/2',\n",
       " '1. e4 e5 2. Nc3 Nc6 3. Nf3 Nf6 4. g3 Bc5 5. Bg2 d6 6. d3 a6 7. O-O O-O 8.',\n",
       " 'h3 Be6 9. Kh2 h6 10. Be3 Nh7 11. d4 exd4 12. Nxd4 Nxd4 13. Bxd4 Bxd4 14.',\n",
       " 'Qxd4 Nf6 15. f4 Qb8 16. Rad1 Qa7 17. Qxa7 Rxa7 18. Rfe1 Re8 19. g4 g6 20.',\n",
       " 'a4 Kg7 21. b3 Re7 22. a5 Ne8 23. e5 dxe5 24. fxe5 c6 25. Rd8 Nc7 26. Red1',\n",
       " 'Ra8 27. Rxa8 Nxa8 28. Rd8 Nc7 29. Rb8 Nb5 30. Nxb5 axb5 31. Kg3 g5 32. Be4',\n",
       " 'f6 33. exf6+ Kxf6 34. Kf3 Ke5 35. Rh8 Kd4 36. Rxh6 Bxb3 37. h4 Rxe4 38.',\n",
       " 'cxb3 Re3+ 39. Kf2 gxh4 40. b4 Rb3 41. g5 Ke5 42. Rxh4 Kf5 43. Rh7 Rxb4 44.',\n",
       " 'Rxb7 Ra4 45. Rb6 Rxa5 46. Rxc6 Kxg5 47. Ke3 b4 48. Ke4 1/2-1/2']"
      ]
     },
     "execution_count": 218,
     "metadata": {},
     "output_type": "execute_result"
    }
   ],
   "source": [
    "raw_data_unlabeled[0]"
   ]
  },
  {
   "cell_type": "code",
   "execution_count": 219,
   "metadata": {},
   "outputs": [
    {
     "name": "stdout",
     "output_type": "stream",
     "text": [
      "2\n",
      "1/2-1/2\n",
      "2523\n",
      "2460\n",
      "1. e4 e5 2. Nf3 Nf6 3. d4 Nxe4 4. Nxe5 d6 5. Nf3 d5 6. Bd3 Nd6 7. O-O\n",
      "1/2-1/2\n"
     ]
    }
   ],
   "source": [
    "for i in raw_data[2]:\n",
    "    print(i)"
   ]
  },
  {
   "cell_type": "code",
   "execution_count": 220,
   "metadata": {},
   "outputs": [
    {
     "name": "stdout",
     "output_type": "stream",
     "text": [
      "25003\n",
      "1-0\n",
      "1. d4 Nf6 2. Nc3 g6 3. e4 d6 4. Be3 Bg7 5. f3 Nbd7 6. Qd2 h5 7. O-O-O c6 8.\n",
      "Nh3 Qa5 9. Kb1 Nb6 10. Ng5 Nh7 11. h4 Nxg5 12. hxg5 Be6 13. f4 O-O-O 14.\n",
      "Qf2 Bg4 15. Rd2 e6 16. Bd3 Rhe8 17. Rf1 Na4 18. Nxa4 Qxa4 19. c4 Kb8 20.\n",
      "Rc2 d5 21. e5 dxc4 22. Rxc4 Qb5 23. Qc2 Bf5 24. Bxf5 exf5 25. Rc1 Rd5 26.\n",
      "Bd2 Bf8 27. a4 Qb6 28. Be3 Bb4 29. Bd2 Bxd2 30. Qxd2 Red8 31. Qc3 Rxd4 32.\n",
      "a5 Rxc4 33. Qxc4 Qxa5 34. Qxf7 Qa4 35. e6 Qe4+ 36. Ka1 Rd5 37. Rc3 Qa4+ 38.\n",
      "Ra3 Rd1+ 39. Ka2 Qc4+ 40. Rb3 b5 41. Qf8+ Kb7 42. e7 Qf1 43. Qb8+ Kxb8 44.\n",
      "e8=Q+ Kc7 45. Qe7+ Rd7 46. Qe5+ Kb7 47. Qe6 Qd1 48. Qxg6 Qd5 49. Qe8 a5 50.\n",
      "Kb1 Qd1+ 51. Ka2 a4 52. Re3 b4 53. Qe5 Rd5 54. Qe7+ Kb6 55. Qxb4+ Rb5 56.\n",
      "Qc4 Qd2 57. Qc3 Qd5+ 58. Kb1 Rb3 59. Qe1 Qd4 60. Rxb3+ axb3 61. g6 Qd3+ 62.\n",
      "Ka1 Qa6+ 63. Kb1 Qa2+ 64. Kc1 Qa1+ 65. Kd2 Qxb2+ 66. Ke3 c5 67. Kf3 Qd4 68.\n",
      "Qe6+ Ka5 69. Qxb3 Qe4+ 70. Kg3 h4+ 71. Kh3 Qxf4 72. Qc3+ Kb5 73. g7 Qg4+\n",
      "74. Kh2 c4 75. Qe5+ Ka6 76. Qe6+ Ka5 77. g8=Q 1-0\n"
     ]
    }
   ],
   "source": [
    "for i in raw_data_unlabeled[2]:\n",
    "    print(i)"
   ]
  },
  {
   "cell_type": "code",
   "execution_count": 221,
   "metadata": {},
   "outputs": [],
   "source": [
    "def concat_feats(feats, ind):\n",
    "    new_feats = []\n",
    "    for ex in feats:\n",
    "        new_ex = []\n",
    "        new_ex.extend(ex[:ind])\n",
    "        new_ex.append(' '.join(ex[ind:]))\n",
    "        new_feats.append(new_ex)\n",
    "    return new_feats\n",
    "\n",
    "proc_data = concat_feats(raw_data, 4)\n",
    "proc_data_unl = concat_feats(raw_data_unlabeled, 2)"
   ]
  },
  {
   "cell_type": "code",
   "execution_count": 222,
   "metadata": {},
   "outputs": [
    {
     "data": {
      "text/plain": [
       "[25000,\n",
       " '0-1',\n",
       " '1717',\n",
       " '2098',\n",
       " '1. e4 c5 2. Nf3 d6 3. d4 cxd4 4. Nxd4 Nf6 5. Nc3 Nc6 6. Bg5 e6 7. Qd2 Be7 8. Be2 O-O 9. O-O-O a6 10. f4 Qc7 11. Bf3 Rb8 12. h4 h6 13. Bxf6 Bxf6 14. Nxc6 bxc6 15. b3 Qa5 16. Na4 Qxa4 17. bxa4 Bb2+ 18. Kb1 Bc3+ 19. Kc1 Bxd2+ 20. Rxd2 d5 21. c3 a5 22. Rb2 Ba6 23. Rxb8 Rxb8 24. Kc2 Kf8 25. e5 Bc4 26. Rb1 Bd3+ 27. Kxd3 Rxb1 28. Kc2 Rf1 29. Kb3 h5 30. Kc2 g6 31. Kb3 Ke7 32. Kc2 Ra1 33. Kb2 Rh1 0-1']"
      ]
     },
     "execution_count": 222,
     "metadata": {},
     "output_type": "execute_result"
    }
   ],
   "source": [
    "proc_data[-1]"
   ]
  },
  {
   "cell_type": "code",
   "execution_count": 223,
   "metadata": {},
   "outputs": [
    {
     "data": {
      "text/plain": [
       "[49999,\n",
       " '1-0',\n",
       " '1. d4 d5 2. Nf3 Nf6 3. c4 dxc4 4. e3 e6 5. Bxc4 c5 6. O-O a6 7. Bb3 b5 8. a4 Bb7 9. axb5 axb5 10. Rxa8 Bxa8 11. dxc5 Qxd1 12. Rxd1 Bxc5 13. Nc3 b4 14. Na4 Ba7 15. Nd4 Nc6 16. Nb5 Bb8 17. Nb6 Bb7 18. Ba4 Ke7 19. Bd2 Rd8 20. Nd4 Nxd4 21. Bxb4+ Bd6 22. Rxd4 Bxb4 23. Rxb4 Bc6 24. Kf1 Bxa4 25. Nxa4 Rd2 26. Rb7+ Ke8 27. Nc3 Rc2 28. h3 Nd7 29. Ne4 Ke7 30. b4 Kd8 31. Ng5 Kc8 32. Rb5 Nf6 33. Nxf7 Ne4 34. f3 Ng3+ 35. Kg1 Kd7 36. Rb7+ Kc6 37. Nd8+ Kd5 38. Rxg7 1-0']"
      ]
     },
     "execution_count": 223,
     "metadata": {},
     "output_type": "execute_result"
    }
   ],
   "source": [
    "proc_data_unl[-1]"
   ]
  },
  {
   "cell_type": "code",
   "execution_count": 224,
   "metadata": {},
   "outputs": [],
   "source": [
    "stockfish_df = pd.read_csv(raw_d/\"stockfish.csv\")"
   ]
  },
  {
   "cell_type": "code",
   "execution_count": 225,
   "metadata": {},
   "outputs": [
    {
     "ename": "IndexError",
     "evalue": "list index out of range",
     "output_type": "error",
     "traceback": [
      "\u001b[1;31m---------------------------------------------------------------------------\u001b[0m",
      "\u001b[1;31mIndexError\u001b[0m                                Traceback (most recent call last)",
      "\u001b[1;32m<ipython-input-225-e5466834818b>\u001b[0m in \u001b[0;36m<module>\u001b[1;34m()\u001b[0m\n\u001b[0;32m      1\u001b[0m \u001b[0mconcat_data\u001b[0m \u001b[1;33m=\u001b[0m \u001b[0mproc_data\u001b[0m\u001b[1;33m[\u001b[0m\u001b[1;36m1\u001b[0m\u001b[1;33m:\u001b[0m\u001b[1;33m]\u001b[0m\u001b[1;33m\u001b[0m\u001b[0m\n\u001b[0;32m      2\u001b[0m \u001b[1;32mfor\u001b[0m \u001b[0mind\u001b[0m\u001b[1;33m,\u001b[0m \u001b[0mrow\u001b[0m \u001b[1;32min\u001b[0m \u001b[0mstockfish_df\u001b[0m\u001b[1;33m.\u001b[0m\u001b[0miterrows\u001b[0m\u001b[1;33m(\u001b[0m\u001b[1;33m)\u001b[0m\u001b[1;33m:\u001b[0m\u001b[1;33m\u001b[0m\u001b[0m\n\u001b[1;32m----> 3\u001b[1;33m     \u001b[0mconcat_data\u001b[0m\u001b[1;33m[\u001b[0m\u001b[0mind\u001b[0m\u001b[1;33m]\u001b[0m\u001b[1;33m.\u001b[0m\u001b[0mappend\u001b[0m\u001b[1;33m(\u001b[0m\u001b[0mrow\u001b[0m\u001b[1;33m[\u001b[0m\u001b[1;34m'MoveScores'\u001b[0m\u001b[1;33m]\u001b[0m\u001b[1;33m)\u001b[0m\u001b[1;33m\u001b[0m\u001b[0m\n\u001b[0m",
      "\u001b[1;31mIndexError\u001b[0m: list index out of range"
     ]
    }
   ],
   "source": [
    "concat_data = proc_data[1:]\n",
    "for ind, row in stockfish_df.iterrows():\n",
    "    concat_data[ind].append(row['MoveScores'])"
   ]
  },
  {
   "cell_type": "code",
   "execution_count": 226,
   "metadata": {},
   "outputs": [
    {
     "name": "stdout",
     "output_type": "stream",
     "text": [
      "25000\n",
      "\n",
      "0-1\n",
      "\n",
      "1717\n",
      "\n",
      "2098\n",
      "\n",
      "1. e4 c5 2. Nf3 d6 3. d4 cxd4 4. Nxd4 Nf6 5. Nc3 Nc6 6. Bg5 e6 7. Qd2 Be7 8. Be2 O-O 9. O-O-O a6 10. f4 Qc7 11. Bf3 Rb8 12. h4 h6 13. Bxf6 Bxf6 14. Nxc6 bxc6 15. b3 Qa5 16. Na4 Qxa4 17. bxa4 Bb2+ 18. Kb1 Bc3+ 19. Kc1 Bxd2+ 20. Rxd2 d5 21. c3 a5 22. Rb2 Ba6 23. Rxb8 Rxb8 24. Kc2 Kf8 25. e5 Bc4 26. Rb1 Bd3+ 27. Kxd3 Rxb1 28. Kc2 Rf1 29. Kb3 h5 30. Kc2 g6 31. Kb3 Ke7 32. Kc2 Ra1 33. Kb2 Rh1 0-1\n",
      "\n",
      "26 64 35 53 33 45 20 32 39 29 39 27 24 15 10 23 -19 20 43 29 -8 11 -17 44 6 12 -37 -46 -54 -8 -2 0 0 -6 0 0 0 1 -25 -30 -22 -43 -58 -63 -61 -60 -79 -78 -77 -79 -387 -392 -387 -401 -440 -377 -427 -391 -431 -437 -473 -502 -534 -500 -583 -590\n",
      "\n"
     ]
    }
   ],
   "source": [
    "for i in concat_data[-1]:\n",
    "    print(i)\n",
    "    print()"
   ]
  },
  {
   "cell_type": "code",
   "execution_count": 234,
   "metadata": {},
   "outputs": [],
   "source": [
    "classes = [\"Event\", \"result\", \"white\", \"black\", \"moves\", \"ratings\"]\n",
    "with open(proc_d/\"proc_data_train.csv\", 'w', newline='') as f:\n",
    "    wr = csv.writer(f, quoting=csv.QUOTE_ALL)\n",
    "    wr.writerow(classes)\n",
    "    for row in concat_data:\n",
    "        wr.writerow(row)"
   ]
  },
  {
   "cell_type": "code",
   "execution_count": 228,
   "metadata": {},
   "outputs": [
    {
     "data": {
      "text/plain": [
       "[25001,\n",
       " '1/2-1/2',\n",
       " '1. e4 e5 2. Nc3 Nc6 3. Nf3 Nf6 4. g3 Bc5 5. Bg2 d6 6. d3 a6 7. O-O O-O 8. h3 Be6 9. Kh2 h6 10. Be3 Nh7 11. d4 exd4 12. Nxd4 Nxd4 13. Bxd4 Bxd4 14. Qxd4 Nf6 15. f4 Qb8 16. Rad1 Qa7 17. Qxa7 Rxa7 18. Rfe1 Re8 19. g4 g6 20. a4 Kg7 21. b3 Re7 22. a5 Ne8 23. e5 dxe5 24. fxe5 c6 25. Rd8 Nc7 26. Red1 Ra8 27. Rxa8 Nxa8 28. Rd8 Nc7 29. Rb8 Nb5 30. Nxb5 axb5 31. Kg3 g5 32. Be4 f6 33. exf6+ Kxf6 34. Kf3 Ke5 35. Rh8 Kd4 36. Rxh6 Bxb3 37. h4 Rxe4 38. cxb3 Re3+ 39. Kf2 gxh4 40. b4 Rb3 41. g5 Ke5 42. Rxh4 Kf5 43. Rh7 Rxb4 44. Rxb7 Ra4 45. Rb6 Rxa5 46. Rxc6 Kxg5 47. Ke3 b4 48. Ke4 1/2-1/2']"
      ]
     },
     "execution_count": 228,
     "metadata": {},
     "output_type": "execute_result"
    }
   ],
   "source": [
    "proc_data_unl[0]"
   ]
  },
  {
   "cell_type": "code",
   "execution_count": 229,
   "metadata": {},
   "outputs": [
    {
     "ename": "IndexError",
     "evalue": "list index out of range",
     "output_type": "error",
     "traceback": [
      "\u001b[1;31m---------------------------------------------------------------------------\u001b[0m",
      "\u001b[1;31mIndexError\u001b[0m                                Traceback (most recent call last)",
      "\u001b[1;32m<ipython-input-229-6664af5d8be3>\u001b[0m in \u001b[0;36m<module>\u001b[1;34m()\u001b[0m\n\u001b[0;32m      2\u001b[0m \u001b[1;32mfor\u001b[0m \u001b[0mind\u001b[0m\u001b[1;33m,\u001b[0m \u001b[0mrow\u001b[0m \u001b[1;32min\u001b[0m \u001b[0mstockfish_df\u001b[0m\u001b[1;33m.\u001b[0m\u001b[0miterrows\u001b[0m\u001b[1;33m(\u001b[0m\u001b[1;33m)\u001b[0m\u001b[1;33m:\u001b[0m\u001b[1;33m\u001b[0m\u001b[0m\n\u001b[0;32m      3\u001b[0m     \u001b[1;32mif\u001b[0m \u001b[0mind\u001b[0m \u001b[1;33m>\u001b[0m \u001b[1;36m24999\u001b[0m\u001b[1;33m:\u001b[0m\u001b[1;33m\u001b[0m\u001b[0m\n\u001b[1;32m----> 4\u001b[1;33m         \u001b[0mconcat_data_unl\u001b[0m\u001b[1;33m[\u001b[0m\u001b[0mind\u001b[0m \u001b[1;33m-\u001b[0m \u001b[1;36m25000\u001b[0m\u001b[1;33m]\u001b[0m\u001b[1;33m.\u001b[0m\u001b[0mappend\u001b[0m\u001b[1;33m(\u001b[0m\u001b[0mrow\u001b[0m\u001b[1;33m[\u001b[0m\u001b[1;34m'MoveScores'\u001b[0m\u001b[1;33m]\u001b[0m\u001b[1;33m)\u001b[0m\u001b[1;33m\u001b[0m\u001b[0m\n\u001b[0m",
      "\u001b[1;31mIndexError\u001b[0m: list index out of range"
     ]
    }
   ],
   "source": [
    "concat_data_unl = proc_data_unl\n",
    "for ind, row in stockfish_df.iterrows():\n",
    "    if ind > 24999:\n",
    "        concat_data_unl[ind - 25000].append(row['MoveScores'])"
   ]
  },
  {
   "cell_type": "code",
   "execution_count": 231,
   "metadata": {},
   "outputs": [
    {
     "name": "stdout",
     "output_type": "stream",
     "text": [
      "25001\n",
      "\n",
      "1/2-1/2\n",
      "\n",
      "1. e4 e5 2. Nc3 Nc6 3. Nf3 Nf6 4. g3 Bc5 5. Bg2 d6 6. d3 a6 7. O-O O-O 8. h3 Be6 9. Kh2 h6 10. Be3 Nh7 11. d4 exd4 12. Nxd4 Nxd4 13. Bxd4 Bxd4 14. Qxd4 Nf6 15. f4 Qb8 16. Rad1 Qa7 17. Qxa7 Rxa7 18. Rfe1 Re8 19. g4 g6 20. a4 Kg7 21. b3 Re7 22. a5 Ne8 23. e5 dxe5 24. fxe5 c6 25. Rd8 Nc7 26. Red1 Ra8 27. Rxa8 Nxa8 28. Rd8 Nc7 29. Rb8 Nb5 30. Nxb5 axb5 31. Kg3 g5 32. Be4 f6 33. exf6+ Kxf6 34. Kf3 Ke5 35. Rh8 Kd4 36. Rxh6 Bxb3 37. h4 Rxe4 38. cxb3 Re3+ 39. Kf2 gxh4 40. b4 Rb3 41. g5 Ke5 42. Rxh4 Kf5 43. Rh7 Rxb4 44. Rxb7 Ra4 45. Rb6 Rxa5 46. Rxc6 Kxg5 47. Ke3 b4 48. Ke4 1/2-1/2\n",
      "\n",
      "26 44 23 16 20 23 -34 -18 -6 -13 -12 -1 3 2 -26 -29 -32 -31 -44 10 11 0 13 10 11 4 12 7 12 30 31 77 59 80 76 81 98 98 86 80 96 94 115 108 118 120 119 109 109 94 42 53 51 38 56 62 45 51 53 44 41 66 36 36 56 39 62 63 44 17 31 22 -47 -48 -53 -46 -46 -10 -77 -9 -5 -16 -20 -24 -11 -14 -5 0 0 0 0 0 0 0 0\n",
      "\n"
     ]
    }
   ],
   "source": [
    "for i in concat_data_unl[0]:\n",
    "    print(i)\n",
    "    print()"
   ]
  },
  {
   "cell_type": "code",
   "execution_count": 235,
   "metadata": {},
   "outputs": [],
   "source": [
    "classes = [\"Event\", \"result\", \"moves\", \"ratings\"]\n",
    "with open(proc_d/\"proc_data_test.csv\", 'w', newline='') as f:\n",
    "    wr = csv.writer(f, quoting=csv.QUOTE_ALL)\n",
    "    wr.writerow(classes)\n",
    "    for row in concat_data_unl:\n",
    "        wr.writerow(row)"
   ]
  },
  {
   "cell_type": "code",
   "execution_count": null,
   "metadata": {},
   "outputs": [],
   "source": []
  }
 ],
 "metadata": {
  "kernelspec": {
   "display_name": "Python 3",
   "language": "python",
   "name": "python3"
  },
  "language_info": {
   "codemirror_mode": {
    "name": "ipython",
    "version": 3
   },
   "file_extension": ".py",
   "mimetype": "text/x-python",
   "name": "python",
   "nbconvert_exporter": "python",
   "pygments_lexer": "ipython3",
   "version": "3.6.6"
  }
 },
 "nbformat": 4,
 "nbformat_minor": 2
}
